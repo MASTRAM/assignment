{
 "cells": [
  {
   "cell_type": "markdown",
   "id": "2123ebcb-013c-44c3-baba-cc2984f29529",
   "metadata": {},
   "source": [
    "Q1. Create a Pandas Series that contains the following data: 4, 8, 15, 16, 23, and 42. Then, print the series."
   ]
  },
  {
   "cell_type": "code",
   "execution_count": 4,
   "id": "016f50ba-656d-4393-875b-39281258ee63",
   "metadata": {},
   "outputs": [],
   "source": [
    "import pandas as pd"
   ]
  },
  {
   "cell_type": "code",
   "execution_count": 17,
   "id": "b5c97f8f-3051-4eb6-a289-3efde0117edb",
   "metadata": {},
   "outputs": [
    {
     "data": {
      "text/plain": [
       "0     4\n",
       "1     8\n",
       "2    15\n",
       "3    16\n",
       "4    23\n",
       "5    42\n",
       "dtype: object"
      ]
     },
     "execution_count": 17,
     "metadata": {},
     "output_type": "execute_result"
    }
   ],
   "source": [
    "pd.Series(['4','8','15','16','23','42'])"
   ]
  },
  {
   "cell_type": "markdown",
   "id": "f8dca284-a283-4e02-9670-534c18aa0221",
   "metadata": {},
   "source": [
    "Q2. Create a variable of list type containing 10 elements in it, and apply pandas.Series function on the\n",
    "variable print it."
   ]
  },
  {
   "cell_type": "code",
   "execution_count": 8,
   "id": "73cfc548-5d39-4b5d-89b2-bfa90e39b945",
   "metadata": {},
   "outputs": [],
   "source": [
    "s=[[1,2,3,4,5,6,7,8,9,10]]\n"
   ]
  },
  {
   "cell_type": "code",
   "execution_count": 19,
   "id": "f477a1f7-fb36-4a81-9ac0-55c8e0010fb2",
   "metadata": {},
   "outputs": [
    {
     "data": {
      "text/plain": [
       "0    [1, 2, 3, 4, 5, 6, 7, 8, 9, 10]\n",
       "dtype: object"
      ]
     },
     "execution_count": 19,
     "metadata": {},
     "output_type": "execute_result"
    }
   ],
   "source": [
    "pd.Series(s)"
   ]
  },
  {
   "cell_type": "markdown",
   "id": "efbef586-212b-4efa-9c19-7bfb25714543",
   "metadata": {},
   "source": [
    "Q3. Create a Pandas DataFrame that contains the following data:\n",
    "\n",
    "Then, print the DataFrame."
   ]
  },
  {
   "cell_type": "code",
   "execution_count": 11,
   "id": "a2906d38-7764-4a73-9097-e471480eb1f2",
   "metadata": {},
   "outputs": [],
   "source": [
    "det=[['Name','Age','Gender'],['Alice',25,'Female'],['Bob',30,'Male'],['Claire',27,'Female']]"
   ]
  },
  {
   "cell_type": "code",
   "execution_count": 20,
   "id": "14a7aafb-49ba-40cd-93b2-80aeabd60144",
   "metadata": {},
   "outputs": [
    {
     "data": {
      "text/html": [
       "<div>\n",
       "<style scoped>\n",
       "    .dataframe tbody tr th:only-of-type {\n",
       "        vertical-align: middle;\n",
       "    }\n",
       "\n",
       "    .dataframe tbody tr th {\n",
       "        vertical-align: top;\n",
       "    }\n",
       "\n",
       "    .dataframe thead th {\n",
       "        text-align: right;\n",
       "    }\n",
       "</style>\n",
       "<table border=\"1\" class=\"dataframe\">\n",
       "  <thead>\n",
       "    <tr style=\"text-align: right;\">\n",
       "      <th></th>\n",
       "      <th>0</th>\n",
       "      <th>1</th>\n",
       "      <th>2</th>\n",
       "    </tr>\n",
       "  </thead>\n",
       "  <tbody>\n",
       "    <tr>\n",
       "      <th>0</th>\n",
       "      <td>Name</td>\n",
       "      <td>Age</td>\n",
       "      <td>Gender</td>\n",
       "    </tr>\n",
       "    <tr>\n",
       "      <th>1</th>\n",
       "      <td>Alice</td>\n",
       "      <td>25</td>\n",
       "      <td>Female</td>\n",
       "    </tr>\n",
       "    <tr>\n",
       "      <th>2</th>\n",
       "      <td>Bob</td>\n",
       "      <td>30</td>\n",
       "      <td>Male</td>\n",
       "    </tr>\n",
       "    <tr>\n",
       "      <th>3</th>\n",
       "      <td>Claire</td>\n",
       "      <td>27</td>\n",
       "      <td>Female</td>\n",
       "    </tr>\n",
       "  </tbody>\n",
       "</table>\n",
       "</div>"
      ],
      "text/plain": [
       "        0    1       2\n",
       "0    Name  Age  Gender\n",
       "1   Alice   25  Female\n",
       "2     Bob   30    Male\n",
       "3  Claire   27  Female"
      ]
     },
     "execution_count": 20,
     "metadata": {},
     "output_type": "execute_result"
    }
   ],
   "source": [
    "pd.DataFrame(det)"
   ]
  },
  {
   "cell_type": "markdown",
   "id": "215d5ccf-749b-48de-8a24-6c84b9b2d45a",
   "metadata": {},
   "source": [
    "Q4. What is ‘DataFrame’ in pandas and how is it different from pandas.series? Explain with an example."
   ]
  },
  {
   "cell_type": "raw",
   "id": "995b3fac-ca3d-4696-a54a-a49259e400ed",
   "metadata": {},
   "source": [
    "A DataFrame is a 2-dimensional data structure that can store data of different types in rows and columns. A Series is a 1-dimensional data structure that can store data of a single type.\n",
    "ex- the table formed in above question is dataframe and list represented in question2 is series"
   ]
  },
  {
   "cell_type": "markdown",
   "id": "896fea1e-0e93-4108-88d4-37d27670e3d3",
   "metadata": {},
   "source": [
    "Q5. What are some common functions you can use to manipulate data in a Pandas DataFrame? Can\n",
    "you give an example of when you might use one of these functions?"
   ]
  },
  {
   "cell_type": "raw",
   "id": "adf02468-1d50-46dc-9ac9-6d343d3f680b",
   "metadata": {},
   "source": [
    "common function to manipulate data frame :\n",
    "    .read_csv\n",
    "    .DataFrame\n",
    "    .Series\n",
    "    .to_csv()\n"
   ]
  },
  {
   "cell_type": "raw",
   "id": "1aa0c017-0638-498b-ae66-cd53a17efced",
   "metadata": {},
   "source": [
    "#example\n",
    "pd.read_csv(\"filename\")"
   ]
  },
  {
   "cell_type": "markdown",
   "id": "0f302ed6-6247-49e5-ae5b-fab358123c96",
   "metadata": {},
   "source": [
    "Q7. Create a DataFrame using multiple Series. Explain with an example."
   ]
  },
  {
   "cell_type": "code",
   "execution_count": 24,
   "id": "e42c3ae6-4854-42d6-af19-fd716f04c4d0",
   "metadata": {},
   "outputs": [
    {
     "data": {
      "text/plain": [
       "0    name\n",
       "1    roll\n",
       "0      SK\n",
       "1      26\n",
       "0      kk\n",
       "1      21\n",
       "dtype: object"
      ]
     },
     "execution_count": 24,
     "metadata": {},
     "output_type": "execute_result"
    }
   ],
   "source": [
    "r1=['name','roll']\n",
    "r2=['SK','26']\n",
    "r3=['kk','21']\n",
    "l1=pd.Series(r1)\n",
    "l2=pd.Series(r2)\n",
    "l3=pd.Series(r3)\n",
    "pd.concat([l1,l2,l3])"
   ]
  },
  {
   "cell_type": "code",
   "execution_count": null,
   "id": "ca6faf00-5fbe-42ca-b76e-c4965e4ba09f",
   "metadata": {},
   "outputs": [],
   "source": []
  }
 ],
 "metadata": {
  "kernelspec": {
   "display_name": "Python 3 (ipykernel)",
   "language": "python",
   "name": "python3"
  },
  "language_info": {
   "codemirror_mode": {
    "name": "ipython",
    "version": 3
   },
   "file_extension": ".py",
   "mimetype": "text/x-python",
   "name": "python",
   "nbconvert_exporter": "python",
   "pygments_lexer": "ipython3",
   "version": "3.10.8"
  }
 },
 "nbformat": 4,
 "nbformat_minor": 5
}
