{
 "cells": [
  {
   "cell_type": "markdown",
   "id": "91f85d1f-0352-463b-afc1-e027a7a7d0f6",
   "metadata": {},
   "source": [
    "Q1. How do you comment code in Python? What are the different types of comments?"
   ]
  },
  {
   "cell_type": "raw",
   "id": "d4649a4b-774b-4e3b-90b6-1ab0bc74030b",
   "metadata": {},
   "source": [
    "we can comment by using # and \"\"\"comment\"\"\"\n",
    "two types of comment - single line(#)\n",
    "                    multiline (\"\"\" \"\"\")\n"
   ]
  },
  {
   "cell_type": "markdown",
   "id": "1f448e75-6f37-4289-b4b4-267381ae0916",
   "metadata": {},
   "source": [
    "Q2. What are variables in Python? How do you declare and assign values to variables?"
   ]
  },
  {
   "cell_type": "raw",
   "id": "ec33e606-3dd2-4549-88ca-165ee7f52f2b",
   "metadata": {},
   "source": [
    "variables are function but defined by user. In python you just have to declare the name of variable(means depend on you )and for assigning\n",
    "value you just have to equate(=) the variable to its value\n",
    "Ex - a=9"
   ]
  },
  {
   "cell_type": "markdown",
   "id": "01f9352e-e6e6-4012-9e81-6d06cd5c52c7",
   "metadata": {},
   "source": [
    "Q3. How do you convert one data type to another in Python?"
   ]
  },
  {
   "cell_type": "raw",
   "id": "86a9203d-338e-4b9e-b083-7c83aabf6799",
   "metadata": {},
   "source": [
    "to convert one data type from another we just have to forcefully write the data type we want in front of the given data type.\n",
    "Let's take an example suppose u have to convert the float value 3.00 to integer we have to simply write int(3.00)."
   ]
  },
  {
   "cell_type": "code",
   "execution_count": 1,
   "id": "ffe3d47f-d824-4877-9483-224a9dda269b",
   "metadata": {},
   "outputs": [
    {
     "data": {
      "text/plain": [
       "3"
      ]
     },
     "execution_count": 1,
     "metadata": {},
     "output_type": "execute_result"
    }
   ],
   "source": [
    "int(3.00)"
   ]
  },
  {
   "cell_type": "markdown",
   "id": "1b68d80b-2970-4025-b903-90a3c7625fd1",
   "metadata": {},
   "source": [
    "Q4. How do you write and execute a Python script from the command line?"
   ]
  },
  {
   "cell_type": "raw",
   "id": "abb2c1e5-437a-4e3d-b15f-993ec36ad317",
   "metadata": {},
   "source": [
    "by using .py in front of our code name in terminal."
   ]
  },
  {
   "cell_type": "markdown",
   "id": "16864ed2-73f4-4ec6-bcfd-148a56c23a59",
   "metadata": {},
   "source": [
    "Q5. Given a list my_list = [1, 2, 3, 4, 5], write the code to slice the list and obtain the sub-list [2, 3]."
   ]
  },
  {
   "cell_type": "code",
   "execution_count": 5,
   "id": "83e32e65-4996-460c-aaf1-50f774268842",
   "metadata": {},
   "outputs": [
    {
     "data": {
      "text/plain": [
       "[2, 3]"
      ]
     },
     "execution_count": 5,
     "metadata": {},
     "output_type": "execute_result"
    }
   ],
   "source": [
    "my_list=[1,2,3,4,5]\n",
    "l_new=my_list[1:3:1]\n",
    "l_new"
   ]
  },
  {
   "cell_type": "markdown",
   "id": "27ec2d2e-bb9d-4dd9-af58-0b68fa406eaa",
   "metadata": {},
   "source": [
    "Q6. What is a complex number in mathematics, and how is it represented in Python?"
   ]
  },
  {
   "cell_type": "raw",
   "id": "08895f6e-def1-4f46-a1f7-dc8fd794d838",
   "metadata": {},
   "source": [
    "the number which consist of real part and imaginary part(only one part may possible) is called complex number\n",
    "In python it is represented in form of (a)+(b)j [where j denote iota]"
   ]
  },
  {
   "cell_type": "code",
   "execution_count": 6,
   "id": "ceaa0f52-e781-47be-9da5-a9043eb8d99e",
   "metadata": {},
   "outputs": [],
   "source": [
    "a=3+2j"
   ]
  },
  {
   "cell_type": "markdown",
   "id": "441f95f1-6c5e-4bc8-82f7-5b681d845814",
   "metadata": {},
   "source": [
    "Q7. What is the correct way to declare a variable named age and assign the value 25 to it?"
   ]
  },
  {
   "cell_type": "code",
   "execution_count": 8,
   "id": "b2bc2055-707f-4688-adf0-aae8cdccf586",
   "metadata": {},
   "outputs": [],
   "source": [
    "age=int(25)"
   ]
  },
  {
   "cell_type": "markdown",
   "id": "ed443992-c1b1-4013-9af8-abe760ab14e1",
   "metadata": {},
   "source": [
    "Q8. Declare a variable named price and assign the value 9.99 to it. What data type does this variable\n",
    "belong to?"
   ]
  },
  {
   "cell_type": "raw",
   "id": "d14e27de-4a10-44b0-8671-e2a5fb97d40e",
   "metadata": {},
   "source": [
    "it's belong to float \n",
    "Decleration is below-"
   ]
  },
  {
   "cell_type": "code",
   "execution_count": 9,
   "id": "5d074038-dc03-4fa3-82f6-1e338e28ca5b",
   "metadata": {},
   "outputs": [],
   "source": [
    "price=9.99"
   ]
  },
  {
   "cell_type": "markdown",
   "id": "67e97033-090d-4ac1-8893-a8900e413628",
   "metadata": {},
   "source": [
    "Q9. Create a variable named name and assign your full name to it as a string. How would you print the\n",
    "value of this variable?"
   ]
  },
  {
   "cell_type": "code",
   "execution_count": 10,
   "id": "06b25ce0-4ebb-4edb-b4c1-471bca5b68ca",
   "metadata": {},
   "outputs": [
    {
     "name": "stdout",
     "output_type": "stream",
     "text": [
      "Brown Man\n"
     ]
    }
   ],
   "source": [
    "name=\"Brown Man\"\n",
    "print(name)"
   ]
  },
  {
   "cell_type": "markdown",
   "id": "51abe7ef-3918-4362-b663-05421302e9e5",
   "metadata": {},
   "source": [
    "Q10. Given the string \"Hello, World!\", extract the substring \"World\"."
   ]
  },
  {
   "cell_type": "code",
   "execution_count": 11,
   "id": "fb9b2af5-7f9c-41c0-a664-d42a2ee6e289",
   "metadata": {},
   "outputs": [
    {
     "data": {
      "text/plain": [
       "'World'"
      ]
     },
     "execution_count": 11,
     "metadata": {},
     "output_type": "execute_result"
    }
   ],
   "source": [
    "s=\"Hello, World!\"\n",
    "s[7:12:1]"
   ]
  },
  {
   "cell_type": "markdown",
   "id": "56cc535d-38fb-4a8c-9532-cf7f9d0795ed",
   "metadata": {},
   "source": [
    "Q11. Create a variable named \"is_student\" and assign it a boolean value indicating whether you are\n",
    "currently a student or not."
   ]
  },
  {
   "cell_type": "code",
   "execution_count": 14,
   "id": "791486cc-e60f-4899-9cb7-2770f466f6f0",
   "metadata": {},
   "outputs": [
    {
     "name": "stdout",
     "output_type": "stream",
     "text": [
      "True\n"
     ]
    }
   ],
   "source": [
    "is_student=True\n",
    "print(is_student)"
   ]
  },
  {
   "cell_type": "code",
   "execution_count": null,
   "id": "c3b2a338-144a-4127-b482-c57310796b04",
   "metadata": {},
   "outputs": [],
   "source": []
  }
 ],
 "metadata": {
  "kernelspec": {
   "display_name": "Python 3 (ipykernel)",
   "language": "python",
   "name": "python3"
  },
  "language_info": {
   "codemirror_mode": {
    "name": "ipython",
    "version": 3
   },
   "file_extension": ".py",
   "mimetype": "text/x-python",
   "name": "python",
   "nbconvert_exporter": "python",
   "pygments_lexer": "ipython3",
   "version": "3.10.8"
  }
 },
 "nbformat": 4,
 "nbformat_minor": 5
}
