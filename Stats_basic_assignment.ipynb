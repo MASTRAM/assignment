{
 "cells": [
  {
   "cell_type": "markdown",
   "id": "03d6e932-a9a3-45c3-b44c-fe2ceef088ad",
   "metadata": {},
   "source": [
    "Q1. What are the three measures of central tendency?\n",
    "\n",
    "SOL- Mean, Median, Mode\n",
    "\n",
    "Q2. What is the difference between the mean, median, and mode? How are they used to measure the\n",
    "central tendency of a dataset?\n",
    "\n",
    "SOL- Mean is the average of given data , Median is the mid value of data after sorting, Mode is highest value in the given data.They are used according how the data is distributed whether it is normally or skewed distributed."
   ]
  },
  {
   "cell_type": "markdown",
   "id": "63e0d8f6-84e9-4fa0-b3ac-c146fa984b7a",
   "metadata": {},
   "source": [
    "Q3. Measure the three measures of central tendency for the given height data:\n",
    "[178,177,176,177,178.2,178,175,179,180,175,178.9,176.2,177,172.5,178,176.5]"
   ]
  },
  {
   "cell_type": "code",
   "execution_count": 5,
   "id": "bde5334e-7fd8-4029-bd06-8ce27b0f7711",
   "metadata": {},
   "outputs": [
    {
     "name": "stderr",
     "output_type": "stream",
     "text": [
      "/tmp/ipykernel_88/1571618335.py:6: FutureWarning: Unlike other reduction functions (e.g. `skew`, `kurtosis`), the default behavior of `mode` typically preserves the axis it acts along. In SciPy 1.11.0, this behavior will change: the default value of `keepdims` will become False, the `axis` over which the statistic is taken will be eliminated, and the value None will no longer be accepted. Set `keepdims` to True or False to avoid this warning.\n",
      "  mode=stats.mode(l)\n"
     ]
    }
   ],
   "source": [
    "import numpy as np\n",
    "l=[178,177,176,177,178.2,178,175,179,180,175,178.9,176.2,177,172.5,178,176.5]\n",
    "mean=np.mean(l) \n",
    "median=np.median(l) \n",
    "from scipy import stats\n",
    "mode=stats.mode(l)"
   ]
  },
  {
   "cell_type": "markdown",
   "id": "d07b5cf1-8c1c-4767-ae16-54910dd7f36e",
   "metadata": {},
   "source": [
    "Q4. Find the standard deviation for the given data:\n",
    "[178,177,176,177,178.2,178,175,179,180,175,178.9,176.2,177,172.5,178,176.5]"
   ]
  },
  {
   "cell_type": "code",
   "execution_count": 7,
   "id": "fc1b162a-7672-44da-a493-3dceb362d01a",
   "metadata": {},
   "outputs": [
    {
     "data": {
      "text/plain": [
       "1.7885814036548633"
      ]
     },
     "execution_count": 7,
     "metadata": {},
     "output_type": "execute_result"
    }
   ],
   "source": [
    "np.std(l)"
   ]
  },
  {
   "cell_type": "markdown",
   "id": "04e63e71-81ef-4f6e-a79e-d27bb7613d49",
   "metadata": {},
   "source": [
    "Q5. How are measures of dispersion such as range, variance, and standard deviation used to describe\n",
    "the spread of a dataset? Provide an example."
   ]
  },
  {
   "cell_type": "markdown",
   "id": "7a435c4e-bda9-4af1-9064-71ab0fd26de9",
   "metadata": {},
   "source": [
    "A measure of dispersion indicates the scattering of data. It explains the disparity of data from one another, delivering a precise view of their distribution. The measure of dispersion displays and gives us an idea about the variation and the central value of an individual item.\n",
    "like range gives us the difference between minima and maxima while variance denotes the spread of data relative to mean  of sample or data."
   ]
  },
  {
   "cell_type": "markdown",
   "id": "254d82b6-c194-4777-a9b2-719c1d630553",
   "metadata": {},
   "source": [
    "Q6. What is a Venn diagram?"
   ]
  },
  {
   "cell_type": "markdown",
   "id": "4d2d05ea-2db9-4044-9c20-7e27dbac7279",
   "metadata": {},
   "source": [
    "Venn Diagram is used to represent the data set through diagrams which help us to understand various type of operation on data set"
   ]
  },
  {
   "cell_type": "markdown",
   "id": "ad03d45e-8a5d-43d1-95a7-ece1cab66369",
   "metadata": {},
   "source": [
    "Q7. For the two given sets A = (2,3,4,5,6,7) & B = (0,2,6,8,10). Find:\n",
    "(i) A B\n",
    "(ii) A ⋃ B"
   ]
  },
  {
   "cell_type": "markdown",
   "id": "15991318-69e1-4863-81a5-7efca6016b37",
   "metadata": {},
   "source": [
    "i) (2,6)\n",
    "ii) (0,2,3,4,5,6,7,8,10)"
   ]
  },
  {
   "cell_type": "markdown",
   "id": "89837fcc-f5d6-49d6-aba6-3ad05ef45a31",
   "metadata": {},
   "source": [
    "Q8. What do you understand about skewness in data?\n",
    "\n",
    "sol- When frequency of data is left or right aligned with respect to median of the datset then it is called skewed data."
   ]
  },
  {
   "cell_type": "markdown",
   "id": "d70c03e5-e80e-4a20-87f5-a752ca4580a7",
   "metadata": {},
   "source": [
    "Q9. If a data is right skewed then what will be the position of median with respect to mean?\n",
    "\n",
    "Sol- median is on left side with respect to mean"
   ]
  },
  {
   "cell_type": "markdown",
   "id": "97384b17-7a49-4494-8fa6-677485a39ff9",
   "metadata": {},
   "source": [
    "Q10. Explain the difference between covariance and correlation. How are these measures used in\n",
    "statistical analysis?\n",
    "\n",
    "both covariance and correlation measure the relationship and the dependency between two variables. Covariance indicates the direction of the linear relationship between variables while correlation measures both the\n",
    "strength and direction of the linear relationship between two variables.\n",
    "\n",
    "this measures were used in ML model like feature selection"
   ]
  },
  {
   "cell_type": "markdown",
   "id": "c40be884-9403-4ac9-9762-e294eababbe2",
   "metadata": {},
   "source": [
    "Q11. What is the formula for calculating the sample mean? Provide an example calculation for a\n",
    "dataset.\n",
    "\n",
    "sample mean= (sum of total data)/(total frequency)\n",
    "ex- let's have a data s=[1,2,3,4,5,6]\n",
    "     its mean is  21/6=3.5"
   ]
  },
  {
   "cell_type": "markdown",
   "id": "4fb3bb48-ca67-490b-8b9d-7771211330f6",
   "metadata": {},
   "source": [
    "Q12. For a normal distribution data what is the relationship between its measure of central tendency?\n",
    "\n",
    "sol- mean=mode=median"
   ]
  },
  {
   "cell_type": "markdown",
   "id": "42dc5fa1-a504-4b8e-aa5e-5c60fbbdd2fa",
   "metadata": {},
   "source": [
    "Q13. How is covariance different from correlation?\n",
    "\n",
    "covariance has no limit but correleation has its range value so correlation not only define the relation between two data set but also defined its strength of relationship between two dataset."
   ]
  },
  {
   "cell_type": "code",
   "execution_count": null,
   "id": "d9f989d1-7c6d-4a77-b5f7-692646dcde96",
   "metadata": {},
   "outputs": [],
   "source": [
    "Q14. How do outliers affect measures of central tendency and dispersion? Provide an example.\n",
    "\n",
    "Sol- Outliers Measures of central tendency and dispersion can give misleading impressions of a data set if the set contains one or more outliers. An outlier is a value that is much greater than or much less than most of the \n",
    "other values in a data set.\n",
    "let's have a data set l=[0,88,90,92,94,95,95,96,97,99] then "
   ]
  }
 ],
 "metadata": {
  "kernelspec": {
   "display_name": "Python 3 (ipykernel)",
   "language": "python",
   "name": "python3"
  },
  "language_info": {
   "codemirror_mode": {
    "name": "ipython",
    "version": 3
   },
   "file_extension": ".py",
   "mimetype": "text/x-python",
   "name": "python",
   "nbconvert_exporter": "python",
   "pygments_lexer": "ipython3",
   "version": "3.10.8"
  }
 },
 "nbformat": 4,
 "nbformat_minor": 5
}
