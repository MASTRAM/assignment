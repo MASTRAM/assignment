{
 "cells": [
  {
   "cell_type": "markdown",
   "id": "4521b863-cafa-4b16-aa02-8987777f7aea",
   "metadata": {},
   "source": [
    "Q1. Create a vehicle class with an init method having instance variables as name_of_vehicle, max_speed\n",
    "and average_of_vehicle."
   ]
  },
  {
   "cell_type": "code",
   "execution_count": 2,
   "id": "e07d70ff-2bc0-4f98-9471-a29de628e9b9",
   "metadata": {},
   "outputs": [],
   "source": [
    "class vehicle:\n",
    "    def __init__(self,name_of_vehicle, max_speed,average_of_vehicle):\n",
    "        self.name_of_vehicle=name_of_vehicle\n",
    "        self.max_speed=max_speed\n",
    "        self.average_of_vehicle=average_of_vehicle\n",
    "    def return_details()"
   ]
  },
  {
   "cell_type": "markdown",
   "id": "dc64e4b4-bb7d-425b-9d2b-e54774e90c66",
   "metadata": {},
   "source": [
    "Q2. Create a child class car from the vehicle class created in Que 1, which will inherit the vehicle class.\n",
    "Create a method named seating_capacity which takes capacity as an argument and returns the name of\n",
    "the vehicle and its seating capacity."
   ]
  },
  {
   "cell_type": "code",
   "execution_count": 13,
   "id": "8280f026-5e02-497d-af8c-8c7c92e15e1b",
   "metadata": {},
   "outputs": [],
   "source": [
    "class car(vehicle):\n",
    "    def __init__(self,seating_capacity):\n",
    "        self.seating_capacity=seating_capacity\n",
    "    def return_details(self):\n",
    "         return self.name_of_vehicle , self.seating_capacity"
   ]
  },
  {
   "cell_type": "code",
   "execution_count": 14,
   "id": "b637c139-9945-4a89-888e-9c4bec8a6516",
   "metadata": {},
   "outputs": [],
   "source": [
    "thar=vehicle('mahindra',120,12)\n",
    "thar=car(4)"
   ]
  },
  {
   "cell_type": "markdown",
   "id": "90cca5a9-c66e-4335-9709-41ffec19eafc",
   "metadata": {},
   "source": [
    "Q3. What is multiple inheritance? Write a python code to demonstrate multiple inheritance."
   ]
  },
  {
   "cell_type": "raw",
   "id": "7d4d39a7-9fbb-448f-a57b-5846170772f3",
   "metadata": {},
   "source": [
    "In these concept we have to just inherit the properties(function)of \n",
    "one class to another. It may be multilevel"
   ]
  },
  {
   "cell_type": "code",
   "execution_count": 2,
   "id": "65868e27-da16-4cd3-bf59-1c644f4a75c9",
   "metadata": {},
   "outputs": [],
   "source": [
    "class noida:\n",
    "    def metropolitan(self):\n",
    "        print(\"ha hai\")\n",
    "class mera_gaav:\n",
    "    def hariyali(self):\n",
    "        print(\"ha hai\")\n",
    "class gkp(noida , mera_gaav):\n",
    "    #in these class properties of above two classes will work\n",
    "    pass"
   ]
  },
  {
   "cell_type": "markdown",
   "id": "8830db61-b7d8-43d9-85f6-e6a334660848",
   "metadata": {},
   "source": [
    "Q4. What are getter and setter in python? Create a class and create a getter and a setter method in this\n",
    "class."
   ]
  },
  {
   "cell_type": "raw",
   "id": "6b11aee4-86f0-49d7-a01e-51c3fe7c6d99",
   "metadata": {},
   "source": [
    "getter is a property function used to get the details from class which is private \n",
    "setter is also a property function used to edit that details from same"
   ]
  },
  {
   "cell_type": "code",
   "execution_count": 6,
   "id": "7b669298-59d8-4a13-847e-f42cfca60daa",
   "metadata": {},
   "outputs": [],
   "source": [
    "class love:\n",
    "    def __init__(self,romance,friedship):\n",
    "        self.__romance= romance\n",
    "        self.friendship=friendship\n",
    "    @property\n",
    "    def romance_exposed(self):\n",
    "        return self.__romance\n",
    "    @romance_exposed.setter\n",
    "    def romance_changed(self,prem):\n",
    "        self.__romance=prem\n",
    "        "
   ]
  },
  {
   "cell_type": "markdown",
   "id": "dc633915-cd9a-4ddf-b2c6-ffbd99a68969",
   "metadata": {},
   "source": [
    "Q5.What is method overriding in python? Write a python code to demonstrate method overriding."
   ]
  },
  {
   "cell_type": "raw",
   "id": "aaa324f0-7a79-4cfc-8d9f-fd8bb487e8ff",
   "metadata": {},
   "source": [
    "It is a method in OOPS in which skelton of code is already made by defining a class and that skelton is used in different child class.\n",
    "example code-"
   ]
  },
  {
   "cell_type": "code",
   "execution_count": null,
   "id": "b9f7692c-2d56-4e19-b2db-9e189f1c6bb5",
   "metadata": {},
   "outputs": [],
   "source": [
    "import abc\n",
    "class details:\n",
    "    @abc.abstractmethod\n",
    "    def name(self):\n",
    "        pass\n",
    "    @abc.abstractmethod\n",
    "    def roll_no(self):\n",
    "        pass\n",
    "    "
   ]
  },
  {
   "cell_type": "code",
   "execution_count": null,
   "id": "3fc7a35f-812f-4422-b04d-25844b932309",
   "metadata": {},
   "outputs": [],
   "source": [
    "class ram(details):\n",
    "    def name(self):\n",
    "        return 'ram'\n",
    "    def roll_no(self):\n",
    "        return 26\n",
    "    "
   ]
  },
  {
   "cell_type": "code",
   "execution_count": 12,
   "id": "f2a9d58d-75c3-45ce-86cd-1fc241c9e9df",
   "metadata": {},
   "outputs": [
    {
     "ename": "NameError",
     "evalue": "name 'ram' is not defined",
     "output_type": "error",
     "traceback": [
      "\u001b[0;31m---------------------------------------------------------------------------\u001b[0m",
      "\u001b[0;31mNameError\u001b[0m                                 Traceback (most recent call last)",
      "Cell \u001b[0;32mIn[12], line 1\u001b[0m\n\u001b[0;32m----> 1\u001b[0m student26\u001b[38;5;241m=\u001b[39m\u001b[43mram\u001b[49m()\n",
      "\u001b[0;31mNameError\u001b[0m: name 'ram' is not defined"
     ]
    }
   ],
   "source": [
    "student26=ram()"
   ]
  },
  {
   "cell_type": "code",
   "execution_count": 11,
   "id": "cee51dde-b768-449a-ab8e-6df099cb1293",
   "metadata": {},
   "outputs": [
    {
     "ename": "NameError",
     "evalue": "name 'student26' is not defined",
     "output_type": "error",
     "traceback": [
      "\u001b[0;31m---------------------------------------------------------------------------\u001b[0m",
      "\u001b[0;31mNameError\u001b[0m                                 Traceback (most recent call last)",
      "Cell \u001b[0;32mIn[11], line 1\u001b[0m\n\u001b[0;32m----> 1\u001b[0m \u001b[43mstudent26\u001b[49m\u001b[38;5;241m.\u001b[39mname\n",
      "\u001b[0;31mNameError\u001b[0m: name 'student26' is not defined"
     ]
    }
   ],
   "source": [
    "student26.name"
   ]
  },
  {
   "cell_type": "code",
   "execution_count": null,
   "id": "17568be2-bf74-49e6-940d-dda42dac0c7d",
   "metadata": {},
   "outputs": [],
   "source": []
  }
 ],
 "metadata": {
  "kernelspec": {
   "display_name": "Python 3 (ipykernel)",
   "language": "python",
   "name": "python3"
  },
  "language_info": {
   "codemirror_mode": {
    "name": "ipython",
    "version": 3
   },
   "file_extension": ".py",
   "mimetype": "text/x-python",
   "name": "python",
   "nbconvert_exporter": "python",
   "pygments_lexer": "ipython3",
   "version": "3.10.8"
  }
 },
 "nbformat": 4,
 "nbformat_minor": 5
}
