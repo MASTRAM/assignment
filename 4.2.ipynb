{
 "cells": [
  {
   "cell_type": "markdown",
   "id": "1afe9eba-756c-41f1-86c4-e19ed407634c",
   "metadata": {},
   "source": [
    "Q1. Explain Class and Object with respect to Object-Oriented Programming. Give a suitable example."
   ]
  },
  {
   "cell_type": "code",
   "execution_count": 5,
   "id": "02540576-8d12-44e5-b671-6ffb978b61eb",
   "metadata": {},
   "outputs": [
    {
     "data": {
      "text/plain": [
       "<bound method pw_s.data of <__main__.pw_s object at 0x7fefe018bb80>>"
      ]
     },
     "execution_count": 5,
     "metadata": {},
     "output_type": "execute_result"
    }
   ],
   "source": [
    "\"\"\"Class- class is set of rule or function defined for object or we can say that it is object constructor.\n",
    "Object- object is like data type which belongs to a specific class and follow specific rules written in that class\"\"\"\n",
    "#let's understand with example\n",
    "#we create a class let's say pw_s\n",
    "class pw_s:\n",
    "     # now we write function for objects which fall in this class\n",
    "        def data():\n",
    "            return 1\n",
    "#Now we create a object under that class\n",
    "ram=pw_s()\n",
    "ram.data"
   ]
  },
  {
   "cell_type": "markdown",
   "id": "ae46ee3e-c062-49fe-884a-3058da3533ba",
   "metadata": {},
   "source": [
    "Q2. Name the four pillars of OOPs."
   ]
  },
  {
   "cell_type": "raw",
   "id": "a36db590-32d1-42a6-9e79-fafcea5d8bdc",
   "metadata": {},
   "source": [
    "Polymorphism\n",
    "Abstraction\n",
    "Inheritance\n",
    "Incapculation"
   ]
  },
  {
   "cell_type": "markdown",
   "id": "b1a08e96-b66b-4518-9795-f95481b44fdb",
   "metadata": {},
   "source": [
    "Q3. Explain why the __init__() function is used. Give a suitable example."
   ]
  },
  {
   "cell_type": "code",
   "execution_count": 6,
   "id": "f33cc689-8b00-4ef5-ba20-29002692f3e4",
   "metadata": {},
   "outputs": [],
   "source": [
    "#__init__ is used to pass some input in class \n",
    "class ram:\n",
    "    def __init__(self,name, roll_no):\n",
    "        self.name=name \n",
    "        self.roll_no=roll_no\n",
    "        "
   ]
  },
  {
   "cell_type": "code",
   "execution_count": 7,
   "id": "8cc7656f-fda8-45a7-81ee-9766ddf751b2",
   "metadata": {},
   "outputs": [],
   "source": [
    "raj=ram('raj',26)"
   ]
  },
  {
   "cell_type": "code",
   "execution_count": 8,
   "id": "06ec935c-b55a-4e7a-b8e0-7c0b86262030",
   "metadata": {},
   "outputs": [
    {
     "data": {
      "text/plain": [
       "'raj'"
      ]
     },
     "execution_count": 8,
     "metadata": {},
     "output_type": "execute_result"
    }
   ],
   "source": [
    "raj.name"
   ]
  },
  {
   "cell_type": "markdown",
   "id": "8e82b53c-5b14-4af6-a9cb-bd3e82bbb6a1",
   "metadata": {},
   "source": [
    "Q4. Why self is used in OOPs?"
   ]
  },
  {
   "cell_type": "raw",
   "id": "9ba6ace2-885b-4054-8599-679fd0e03d14",
   "metadata": {},
   "source": [
    "Self is used to just bind the function of a class into that class"
   ]
  },
  {
   "cell_type": "markdown",
   "id": "bd8f6e19-4824-4f45-8e5a-628eb32828f0",
   "metadata": {},
   "source": [
    "Q5. What is inheritance? Give an example for each type of inheritance."
   ]
  },
  {
   "cell_type": "code",
   "execution_count": null,
   "id": "7a3d0a97-9064-4257-8a12-ff209285e5b9",
   "metadata": {},
   "outputs": [],
   "source": [
    "Inheritance is the property of class in which a class inherit properties of different class.\n",
    "Different type of inheritances are:\n",
    "    1. Single inheritance : In these a class inherit property of a single class. Ex- class n2(n1), In this n2 inherit only n1\n",
    "    2. Multi inheritance- : In these a class inherit proprty of many class. Ex- class n3(n1,n0),in this n3 inherit n1 and n0\n",
    "    3. Multi-level inheritance: In these a class inherit property of a class which already inherit property of another function. Ex- class n4(n3),in this n4 inherit already inherited class named n3"
   ]
  }
 ],
 "metadata": {
  "kernelspec": {
   "display_name": "Python 3 (ipykernel)",
   "language": "python",
   "name": "python3"
  },
  "language_info": {
   "codemirror_mode": {
    "name": "ipython",
    "version": 3
   },
   "file_extension": ".py",
   "mimetype": "text/x-python",
   "name": "python",
   "nbconvert_exporter": "python",
   "pygments_lexer": "ipython3",
   "version": "3.10.8"
  }
 },
 "nbformat": 4,
 "nbformat_minor": 5
}
