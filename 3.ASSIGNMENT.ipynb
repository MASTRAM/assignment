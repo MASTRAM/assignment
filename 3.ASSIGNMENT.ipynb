{
 "cells": [
  {
   "cell_type": "markdown",
   "id": "faa0ec9e-f3f4-4967-bdef-67c80e6bb4d8",
   "metadata": {},
   "source": [
    "Q1. Which keyword is used to create a function? Create a function to return a list of odd numbers in the\n",
    "range of 1 to 25."
   ]
  },
  {
   "cell_type": "raw",
   "id": "66518149-6e05-45e7-85d6-ff2ba8d63ff4",
   "metadata": {},
   "source": [
    "def keyword"
   ]
  },
  {
   "cell_type": "code",
   "execution_count": 22,
   "id": "ae82998a-4935-4d0b-be6b-3475d0d3beb9",
   "metadata": {},
   "outputs": [],
   "source": [
    "       def odd():\n",
    "        l1=[]\n",
    "        for i in range(25):\n",
    "            if i%2!=0:\n",
    "                l1.append(i)\n",
    "        return l1\n",
    "                    "
   ]
  },
  {
   "cell_type": "markdown",
   "id": "84d25de9-b05b-417a-aa20-dcc5e299f6a5",
   "metadata": {},
   "source": [
    "    Q2. Why *args and **kwargs is used in some functions? Create a function each for *args and **kwargs\n",
    "to demonstrate their use.                                "
   ]
  },
  {
   "cell_type": "raw",
   "id": "a0cd5562-277d-4a1b-ae69-1988c63bbd9a",
   "metadata": {},
   "source": [
    "*args=used to take tuple as entry in function\n",
    "**kwargs=used to dictionary as entry in function"
   ]
  },
  {
   "cell_type": "code",
   "execution_count": 24,
   "id": "883dc7fb-2718-47f8-98af-e55b70b2f808",
   "metadata": {},
   "outputs": [],
   "source": [
    "def ram(*gkp):\n",
    "    return gkp"
   ]
  },
  {
   "cell_type": "code",
   "execution_count": 25,
   "id": "6934242e-9715-499f-a490-e363f27bd075",
   "metadata": {},
   "outputs": [
    {
     "data": {
      "text/plain": [
       "(1, 2, 3, 4, 5, 'raj')"
      ]
     },
     "execution_count": 25,
     "metadata": {},
     "output_type": "execute_result"
    }
   ],
   "source": [
    "ram(1,2,3,4,5,'raj')"
   ]
  },
  {
   "cell_type": "code",
   "execution_count": 30,
   "id": "aa5f80ed-69d8-4d36-9264-9f205bda9586",
   "metadata": {},
   "outputs": [],
   "source": [
    "def shyam(**vns):\n",
    "    return vns"
   ]
  },
  {
   "cell_type": "code",
   "execution_count": 31,
   "id": "b507352e-d542-4963-aea4-1a08ffedb97f",
   "metadata": {},
   "outputs": [
    {
     "data": {
      "text/plain": [
       "{'a': 3, 'b': 'raj', 'c': 4}"
      ]
     },
     "execution_count": 31,
     "metadata": {},
     "output_type": "execute_result"
    }
   ],
   "source": [
    "shyam(a=3,b='raj',c=4)"
   ]
  },
  {
   "cell_type": "markdown",
   "id": "bbfb54dc-b9da-4387-a709-f15af32bc319",
   "metadata": {},
   "source": [
    "Q3. What is an iterator in python? Name the method used to initialise the iterator object and the method\n",
    "used for iteration. Use these methods to print the first five elements of the given list [2, 4, 6, 8, 10, 12, 14,\n",
    "16, 18, 20]."
   ]
  },
  {
   "cell_type": "raw",
   "id": "bf46d7a0-d06f-41a9-aec5-738419bde432",
   "metadata": {},
   "source": [
    "the items like list which gaves their value of their item when called by position of that item is iterator.\n",
    "ex= list"
   ]
  },
  {
   "cell_type": "code",
   "execution_count": 9,
   "id": "ebffd893-6425-4c47-88c6-15043ea18bf1",
   "metadata": {},
   "outputs": [
    {
     "name": "stdout",
     "output_type": "stream",
     "text": [
      "2\n",
      "4\n",
      "6\n",
      "8\n",
      "10\n"
     ]
    }
   ],
   "source": [
    "l=[2, 4, 6, 8, 10, 12, 14, 16, 18, 20]\n",
    "l1=iter(l)\n",
    "for i in range(5):\n",
    "    print(next(l1))\n"
   ]
  },
  {
   "cell_type": "markdown",
   "id": "433a273d-9f17-4188-b92b-b4fee226ff7c",
   "metadata": {},
   "source": [
    "Q4. What is a generator function in python? Why yield keyword is used? Give an example of a generator\n",
    "function."
   ]
  },
  {
   "cell_type": "raw",
   "id": "c6e004d5-edaf-4e35-96b8-e221fbef9a07",
   "metadata": {},
   "source": [
    "The function which generate some values is called \n",
    "generator function.\n",
    "The yield keyword is used to generate or store the value obtained.\n",
    "Ex-"
   ]
  },
  {
   "cell_type": "code",
   "execution_count": 16,
   "id": "e99a59d7-2a9b-4a13-acad-ee4b35f580b3",
   "metadata": {},
   "outputs": [],
   "source": [
    "def ex(n):\n",
    "    a=0\n",
    "    for i in range(n):\n",
    "        yield a \n",
    "        a+=i"
   ]
  },
  {
   "cell_type": "code",
   "execution_count": 18,
   "id": "65b9287e-8da6-45b6-a9a8-5620e92b76a4",
   "metadata": {},
   "outputs": [
    {
     "name": "stdout",
     "output_type": "stream",
     "text": [
      "0\n",
      "0\n",
      "1\n",
      "3\n",
      "6\n",
      "10\n",
      "15\n",
      "21\n",
      "28\n",
      "36\n"
     ]
    }
   ],
   "source": [
    "for i in ex(10):\n",
    "    print(i)"
   ]
  },
  {
   "cell_type": "markdown",
   "id": "a29ab7ea-6d9e-44ca-b392-ec5ea53966ef",
   "metadata": {},
   "source": [
    "Q5. Create a generator function for prime numbers less than 1000. Use the next() method to print the\n",
    "first 20 prime numbers."
   ]
  },
  {
   "cell_type": "code",
   "execution_count": 17,
   "id": "fb31b72b-cd37-4482-aa27-3b45211facb4",
   "metadata": {},
   "outputs": [],
   "source": [
    "def prime():\n",
    "    a = int\n",
    "    for i in range(1000):\n",
    "        if i!=0:\n",
    "            c=0\n",
    "            for j in range(i):\n",
    "                if j>1 and i%j==0:\n",
    "                    c+=1\n",
    "            if c==0:\n",
    "                yield a\n",
    "                a=i\n",
    "                    \n",
    "                    \n",
    "                    \n",
    "        "
   ]
  },
  {
   "cell_type": "code",
   "execution_count": 21,
   "id": "3208437d-041e-4c40-aaf1-b8f4bc477979",
   "metadata": {},
   "outputs": [
    {
     "name": "stdout",
     "output_type": "stream",
     "text": [
      "<class 'int'>\n",
      "1\n",
      "2\n",
      "3\n",
      "5\n",
      "7\n",
      "11\n",
      "13\n",
      "17\n",
      "19\n",
      "23\n",
      "29\n",
      "31\n",
      "37\n",
      "41\n",
      "43\n",
      "47\n",
      "53\n",
      "59\n",
      "61\n"
     ]
    }
   ],
   "source": [
    "pyaar= prime()\n",
    "for i in range(20):\n",
    "    print(next(pyaar))"
   ]
  },
  {
   "cell_type": "markdown",
   "id": "e8c94aa3-0fd7-4692-a065-e69fa04ab399",
   "metadata": {},
   "source": [
    "Q6. Write a python program to print the first 10 Fibonacci numbers using a while loop."
   ]
  },
  {
   "cell_type": "code",
   "execution_count": 19,
   "id": "002a8338-9125-4424-94b1-f18aca359e06",
   "metadata": {},
   "outputs": [
    {
     "name": "stdout",
     "output_type": "stream",
     "text": [
      "0\n",
      "1\n",
      "1\n",
      "2\n",
      "3\n",
      "5\n",
      "8\n",
      "13\n",
      "21\n",
      "34\n"
     ]
    }
   ],
   "source": [
    "def fib():\n",
    "    a,b=0,1\n",
    "    while True:\n",
    "        yield a \n",
    "        a,b=b,a+b\n",
    "        \n",
    "love = fib()\n",
    "for i in range(10):\n",
    "    print(next(love))"
   ]
  },
  {
   "cell_type": "markdown",
   "id": "1a610ee7-7981-4ffa-84ef-98750d59de1b",
   "metadata": {},
   "source": [
    "Q7. Write a List Comprehension to iterate through the given string: ‘pwskills’.\n",
    "Expected output: ['p', 'w', 's', 'k', 'i', 'l', 'l', 's']"
   ]
  },
  {
   "cell_type": "code",
   "execution_count": 22,
   "id": "60010702-55f8-4200-a7b1-ad759f3707d8",
   "metadata": {},
   "outputs": [
    {
     "data": {
      "text/plain": [
       "['p', 'w', 's', 'k', 'i', 'l', 'l', 's']"
      ]
     },
     "execution_count": 22,
     "metadata": {},
     "output_type": "execute_result"
    }
   ],
   "source": [
    "s='pwskills'\n",
    "l1=[]\n",
    "for i in s:\n",
    "    l1.append(i)\n",
    "l1"
   ]
  },
  {
   "cell_type": "markdown",
   "id": "89c86d7d-4e3a-49a9-9eeb-9af5c0fdda42",
   "metadata": {},
   "source": [
    "Q8. Write a python program to check whether a given number is Palindrome or not using a while loop."
   ]
  },
  {
   "cell_type": "code",
   "execution_count": 54,
   "id": "c5b92309-7acd-40f1-9fe8-9cc5fcc0362f",
   "metadata": {},
   "outputs": [
    {
     "name": "stdin",
     "output_type": "stream",
     "text": [
      " naian\n"
     ]
    },
    {
     "name": "stdout",
     "output_type": "stream",
     "text": [
      "Pallindrome haii\n"
     ]
    }
   ],
   "source": [
    "s=input()\n",
    "l=list(s)\n",
    "l1=l[::-1]\n",
    "k=0\n",
    "i=0\n",
    "while i<len(l):\n",
    "    if(l[i]==l1[i]):\n",
    "        k+=1\n",
    "    i+=1\n",
    "if k==len(l):\n",
    "    print(\"Pallindrome haii\")\n",
    "else:\n",
    "    print(\"Nhi hai\")\n",
    "\n"
   ]
  },
  {
   "cell_type": "code",
   "execution_count": 34,
   "id": "ae532f76-7256-4e17-9551-31e902021ff1",
   "metadata": {},
   "outputs": [
    {
     "data": {
      "text/plain": [
       "[1,\n",
       " 3,\n",
       " 5,\n",
       " 7,\n",
       " 9,\n",
       " 11,\n",
       " 13,\n",
       " 15,\n",
       " 17,\n",
       " 19,\n",
       " 21,\n",
       " 23,\n",
       " 25,\n",
       " 27,\n",
       " 29,\n",
       " 31,\n",
       " 33,\n",
       " 35,\n",
       " 37,\n",
       " 39,\n",
       " 41,\n",
       " 43,\n",
       " 45,\n",
       " 47,\n",
       " 49,\n",
       " 51,\n",
       " 53,\n",
       " 55,\n",
       " 57,\n",
       " 59,\n",
       " 61,\n",
       " 63,\n",
       " 65,\n",
       " 67,\n",
       " 69,\n",
       " 71,\n",
       " 73,\n",
       " 75,\n",
       " 77,\n",
       " 79,\n",
       " 81,\n",
       " 83,\n",
       " 85,\n",
       " 87,\n",
       " 89,\n",
       " 91,\n",
       " 93,\n",
       " 95,\n",
       " 97,\n",
       " 99]"
      ]
     },
     "execution_count": 34,
     "metadata": {},
     "output_type": "execute_result"
    }
   ],
   "source": [
    "l=[]\n",
    "for i in range(100):\n",
    "    l.append(i+1)\n",
    "list(filter(lambda x:x%2!=0,l))\n"
   ]
  },
  {
   "cell_type": "code",
   "execution_count": null,
   "id": "cb1508b1-f8f2-465a-9a5b-ae75dd522fd3",
   "metadata": {},
   "outputs": [],
   "source": []
  }
 ],
 "metadata": {
  "kernelspec": {
   "display_name": "Python 3 (ipykernel)",
   "language": "python",
   "name": "python3"
  },
  "language_info": {
   "codemirror_mode": {
    "name": "ipython",
    "version": 3
   },
   "file_extension": ".py",
   "mimetype": "text/x-python",
   "name": "python",
   "nbconvert_exporter": "python",
   "pygments_lexer": "ipython3",
   "version": "3.10.8"
  }
 },
 "nbformat": 4,
 "nbformat_minor": 5
}
