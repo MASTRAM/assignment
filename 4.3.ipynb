{
 "cells": [
  {
   "cell_type": "markdown",
   "id": "552ddaeb-bcfe-40a3-b463-e47b263fc57f",
   "metadata": {},
   "source": [
    "Q1. What is Abstraction in OOps? Explain with an example."
   ]
  },
  {
   "cell_type": "raw",
   "id": "f2513292-75d9-4e5d-aff6-a77bfd485884",
   "metadata": {},
   "source": [
    "Abstraction is like building a skelton code which may be utilised in another  code \n",
    "EXAMPLE\n",
    "   \n",
    "  "
   ]
  },
  {
   "cell_type": "code",
   "execution_count": 9,
   "id": "ebd08064-9e9e-4871-a8a0-cb27f6085c46",
   "metadata": {},
   "outputs": [],
   "source": [
    " import abc\n",
    "class details:\n",
    "        @abc.abstractmethod\n",
    "        def name(self):\n",
    "            pass\n",
    "        @abc.abstractmethod\n",
    "        def pin_code(self):\n",
    "            pass"
   ]
  },
  {
   "cell_type": "code",
   "execution_count": 10,
   "id": "5965c178-a2d6-40b0-a6a8-2cf4f130d943",
   "metadata": {},
   "outputs": [],
   "source": [
    "class student(details):\n",
    "    def name(self):\n",
    "        return ram\n",
    "    def pin_code(self):\n",
    "        return 273"
   ]
  },
  {
   "cell_type": "markdown",
   "id": "ca8d3a9a-e563-422c-9a1f-6314cb383c00",
   "metadata": {},
   "source": [
    "Q2. Differentiate between Abstraction and Encapsulation. Explain with an example."
   ]
  },
  {
   "cell_type": "raw",
   "id": "193ebca9-09ed-479d-aea0-2241a30649ab",
   "metadata": {},
   "source": [
    "Abstraction is a like makunga class which contains function which can be modified as per need of user \n",
    "Ex: AS ABOVE IN CODE OF QUESTION 1\n",
    "Encapsulation is a process in which a function or keyword is going to be private.\n",
    "Ex- like if we want access a details of class we can easily access that but when we put __ after self(self.keyword to self.__keyword)no u can't access keyword by just calling it name "
   ]
  },
  {
   "cell_type": "markdown",
   "id": "084dee67-379a-4105-9118-8ad8d3407564",
   "metadata": {},
   "source": [
    "Q3. What is abc module in python? Why is it used?"
   ]
  },
  {
   "cell_type": "raw",
   "id": "6f451c21-0d8f-4113-ab89-393211d7575f",
   "metadata": {},
   "source": [
    "abc module is used to called for abstraction of any class"
   ]
  },
  {
   "cell_type": "markdown",
   "id": "b35cee78-7259-49d7-8cb7-7626cd74b758",
   "metadata": {},
   "source": [
    "Q4. How can we achieve data abstraction?"
   ]
  },
  {
   "cell_type": "raw",
   "id": "f2ff6518-e1d8-40f1-819f-a6d160a5fc94",
   "metadata": {},
   "source": [
    "To achieve data abstraction we have to first import abc and then we have to use abstractmethod for any function which is made to be the skelton"
   ]
  },
  {
   "cell_type": "markdown",
   "id": "d80a0481-13ff-419f-b92e-522df69ff583",
   "metadata": {},
   "source": [
    "Q5. Can we create an instance of an abstract class? Explain your answer."
   ]
  },
  {
   "cell_type": "raw",
   "id": "085c90c3-80d1-4b70-919c-bc061f4b8d19",
   "metadata": {},
   "source": [
    "Yes we can , that's why data abstraction is done.Like if need instance function in class which is inherited by the abstract class and that function is defined in abstract class so we can create instance of an abstract class.(Also in ques 1 code we done it like we create instance function name which is already in abstract class)"
   ]
  },
  {
   "cell_type": "code",
   "execution_count": null,
   "id": "d5047d0a-e7a7-44db-98aa-c4425826957a",
   "metadata": {},
   "outputs": [],
   "source": []
  }
 ],
 "metadata": {
  "kernelspec": {
   "display_name": "Python 3 (ipykernel)",
   "language": "python",
   "name": "python3"
  },
  "language_info": {
   "codemirror_mode": {
    "name": "ipython",
    "version": 3
   },
   "file_extension": ".py",
   "mimetype": "text/x-python",
   "name": "python",
   "nbconvert_exporter": "python",
   "pygments_lexer": "ipython3",
   "version": "3.10.8"
  }
 },
 "nbformat": 4,
 "nbformat_minor": 5
}
